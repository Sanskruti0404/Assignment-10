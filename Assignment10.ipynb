{
 "cells": [
  {
   "cell_type": "markdown",
   "id": "2e813c70-56e4-49c9-92fe-5baff668a1ee",
   "metadata": {},
   "source": [
    "## Assignment 10"
   ]
  },
  {
   "cell_type": "markdown",
   "id": "44e2f32e-89be-45f4-bc24-21a7a28f02fe",
   "metadata": {},
   "source": [
    "## Q1\n",
    "Multithreading in Python refers to the concurrent execution of multiple threads within a single process. A thread is a lightweight unit of execution that enables a program to perform multiple tasks simultaneously. Multithreading allows different parts of a program to run concurrently and utilize the available CPU resources efficiently.\r\n",
    "\r\n",
    "Multithreading is used in Python for the following reasons:\r\n",
    "\r\n",
    "Concurrency: Multithreading enables concurrent execution of tasks, allowing programs to perform multiple operations simultaneously. This is beneficial for tasks that can be executed independently and do not rely on each other's results.\r\n",
    "\r\n",
    "Responsive User Interfaces: Multithreading is often used in graphical user interface (GUI) applications to keep the user interface responsive while performing background tasks. By running time-consuming operations in separate threads, the main thread (which handles the GUI) remains free to respond to user input.\r\n",
    "\r\n",
    "Parallelism: Multithreading can be used to achieve parallelism by running computationally intensive tasks concurrently across multiple CPU cores. This can lead to significant performance improvements, especially in tasks that can be parallelized.\r\n",
    "\r\n",
    "The module used to handle threads in Python is called threading. It provides a high-level interface for creating and managing threads in Python. The threading module allows you to create new threads, control their execution, and synchronize their operations. It provides features like thread creation, starting and stopping threads, thread synchronization, and communication between threads.\r\n",
    "\r\n",
    "To use the threading module, you need to import it in your Python script:\r\n",
    "\r\n",
    "import threading\r\n",
    "Once imported, you can create and manage threads using the classes and functions provided by the threading module."
   ]
  },
  {
   "cell_type": "markdown",
   "id": "27feefb2-7982-4fcb-ab56-bfc0492e8d23",
   "metadata": {},
   "source": [
    "## Q2\n",
    "The threading module in Python is used for creating and managing threads. It provides a high-level interface and several functions and classes to work with threads. Here's why the threading module is used:\n",
    "\n",
    "Thread Creation: The threading module allows you to create new threads by creating instances of the Thread class. You can define a target function that represents the task to be performed in the new thread and create multiple threads to perform concurrent operations.\n",
    "\n",
    "Thread Synchronization: The threading module provides synchronization primitives such as locks, semaphores, conditions, and event objects. These primitives help in coordinating the execution of multiple threads, preventing race conditions, and ensuring thread safety when accessing shared resources.\n",
    "\n",
    "Thread Control: The threading module offers various functions to control the execution of threads. You can start and stop threads, set thread names, set thread daemon status, and control thread priorities.\n",
    "\n",
    "Thread Communication: The threading module provides mechanisms for communication between threads. You can use shared data structures like Queue or Pipe to pass data between threads, allowing them to exchange information and collaborate on a task."
   ]
  },
  {
   "cell_type": "code",
   "execution_count": 1,
   "id": "977aeecf-3efc-4b64-a9de-b576cae4bdab",
   "metadata": {},
   "outputs": [
    {
     "name": "stdout",
     "output_type": "stream",
     "text": [
      "Executing task...Executing task...\n",
      "\n",
      "Executing task...\n",
      "Executing task...\n",
      "Executing task...\n",
      "Active Threads: 9\n"
     ]
    },
    {
     "name": "stderr",
     "output_type": "stream",
     "text": [
      "C:\\Users\\Sanskruti\\AppData\\Local\\Temp\\ipykernel_13388\\4045994893.py:14: DeprecationWarning: activeCount() is deprecated, use active_count() instead\n",
      "  active_threads = threading.activeCount()\n"
     ]
    }
   ],
   "source": [
    "import threading\n",
    "\n",
    "def my_task():\n",
    "    print(\"Executing task...\")\n",
    "\n",
    "# Create and start multiple threads\n",
    "threads = []\n",
    "for i in range(5):\n",
    "    t = threading.Thread(target=my_task)\n",
    "    t.start()\n",
    "    threads.append(t)\n",
    "\n",
    "# Get the number of active threads\n",
    "active_threads = threading.activeCount()\n",
    "print(\"Active Threads:\", active_threads)"
   ]
  },
  {
   "cell_type": "code",
   "execution_count": 2,
   "id": "0d44542d-b818-4bfd-9579-041ce622177f",
   "metadata": {},
   "outputs": [
    {
     "name": "stdout",
     "output_type": "stream",
     "text": [
      "Current Thread: Thread-10 (my_task)\n"
     ]
    },
    {
     "name": "stderr",
     "output_type": "stream",
     "text": [
      "C:\\Users\\Sanskruti\\AppData\\Local\\Temp\\ipykernel_13388\\2636069374.py:4: DeprecationWarning: currentThread() is deprecated, use current_thread() instead\n",
      "  current_thread = threading.currentThread()\n",
      "C:\\Users\\Sanskruti\\AppData\\Local\\Temp\\ipykernel_13388\\2636069374.py:5: DeprecationWarning: getName() is deprecated, get the name attribute instead\n",
      "  print(\"Current Thread:\", current_thread.getName())\n"
     ]
    }
   ],
   "source": [
    "import threading\n",
    "\n",
    "def my_task():\n",
    "    current_thread = threading.currentThread()\n",
    "    print(\"Current Thread:\", current_thread.getName())\n",
    "\n",
    "# Create and start a thread\n",
    "t = threading.Thread(target=my_task)\n",
    "t.start()\n"
   ]
  },
  {
   "cell_type": "code",
   "execution_count": 3,
   "id": "4c82240d-8a42-46d0-b744-4932e9a9f399",
   "metadata": {},
   "outputs": [
    {
     "name": "stdout",
     "output_type": "stream",
     "text": [
      "Executing task...\n",
      "Executing task...\n",
      "Executing task...\n",
      "Thread Name: MainThread\n",
      "Thread Name: Tornado selector\n",
      "Thread Name: Tornado selector\n",
      "Thread Name: IOPub\n",
      "Thread Name: Heartbeat\n",
      "Thread Name: Tornado selector\n",
      "Thread Name: Control\n",
      "Thread Name: IPythonHistorySavingThread\n",
      "Thread Name: Thread-4\n"
     ]
    },
    {
     "name": "stderr",
     "output_type": "stream",
     "text": [
      "C:\\Users\\Sanskruti\\AppData\\Local\\Temp\\ipykernel_13388\\2788686270.py:16: DeprecationWarning: getName() is deprecated, get the name attribute instead\n",
      "  print(\"Thread Name:\", thread.getName())\n"
     ]
    }
   ],
   "source": [
    "import threading\n",
    "\n",
    "def my_task():\n",
    "    print(\"Executing task...\")\n",
    "\n",
    "# Create and start multiple threads\n",
    "threads = []\n",
    "for i in range(3):\n",
    "    t = threading.Thread(target=my_task)\n",
    "    t.start()\n",
    "    threads.append(t)\n",
    "\n",
    "# Enumerate all active threads\n",
    "active_threads = threading.enumerate()\n",
    "for thread in active_threads:\n",
    "    print(\"Thread Name:\", thread.getName())\n"
   ]
  },
  {
   "cell_type": "markdown",
   "id": "54b14b58-9c7c-4972-b41f-72fa1d265d30",
   "metadata": {},
   "source": [
    "## Q3\n",
    "The run, start, join, and isAlive are important functions/methods in the threading module for working with threads in Python. Here's an explanation of each function:\n",
    "\n",
    "run(): The run() method is a key method that represents the target function or activity to be performed by the thread. You need to override this method in a custom thread class or provide a target function when creating a thread. When the thread is started, the run() method is executed in a separate thread."
   ]
  },
  {
   "cell_type": "code",
   "execution_count": 4,
   "id": "030d7a79-5d3a-4070-af81-ad2081d3d427",
   "metadata": {},
   "outputs": [
    {
     "name": "stdout",
     "output_type": "stream",
     "text": [
      "Thread is executing.\n"
     ]
    }
   ],
   "source": [
    "import threading\n",
    "\n",
    "class MyThread(threading.Thread):\n",
    "    def run(self):\n",
    "        print(\"Thread is executing.\")\n",
    "\n",
    "# Create and start a thread\n",
    "t = MyThread()\n",
    "t.start()\n"
   ]
  },
  {
   "cell_type": "code",
   "execution_count": 5,
   "id": "e9092b93-56cb-4ac8-8888-e7c4ce210628",
   "metadata": {},
   "outputs": [
    {
     "name": "stdout",
     "output_type": "stream",
     "text": [
      "Thread is executing.\n"
     ]
    }
   ],
   "source": [
    "\n",
    "import threading\n",
    "\n",
    "def my_task():\n",
    "    print(\"Thread is executing.\")\n",
    "\n",
    "# Create and start a thread\n",
    "t = threading.Thread(target=my_task)\n",
    "t.start()\n"
   ]
  },
  {
   "cell_type": "code",
   "execution_count": 6,
   "id": "1d9fccd9-d9c6-4cd3-89ab-3c5b22b9783a",
   "metadata": {},
   "outputs": [
    {
     "name": "stdout",
     "output_type": "stream",
     "text": [
      "Thread is executing.\n",
      "Thread has finished.\n"
     ]
    }
   ],
   "source": [
    "import threading\n",
    "\n",
    "def my_task():\n",
    "    print(\"Thread is executing.\")\n",
    "\n",
    "# Create and start a thread\n",
    "t = threading.Thread(target=my_task)\n",
    "t.start()\n",
    "\n",
    "# Wait for the thread to finish\n",
    "t.join()\n",
    "print(\"Thread has finished.\")\n"
   ]
  },
  {
   "cell_type": "code",
   "execution_count": 7,
   "id": "baf1d926-ab3d-4a95-b255-afba60e8ac2a",
   "metadata": {},
   "outputs": [
    {
     "name": "stdout",
     "output_type": "stream",
     "text": [
      "Thread has finished.\n"
     ]
    },
    {
     "ename": "AttributeError",
     "evalue": "'Thread' object has no attribute 'isAlive'",
     "output_type": "error",
     "traceback": [
      "\u001b[1;31m---------------------------------------------------------------------------\u001b[0m",
      "\u001b[1;31mAttributeError\u001b[0m                            Traceback (most recent call last)",
      "Cell \u001b[1;32mIn[7], line 13\u001b[0m\n\u001b[0;32m     10\u001b[0m t\u001b[38;5;241m.\u001b[39mstart()\n\u001b[0;32m     12\u001b[0m \u001b[38;5;66;03m# Check if the thread is still alive\u001b[39;00m\n\u001b[1;32m---> 13\u001b[0m \u001b[38;5;28;01mif\u001b[39;00m t\u001b[38;5;241m.\u001b[39misAlive():\n\u001b[0;32m     14\u001b[0m     \u001b[38;5;28mprint\u001b[39m(\u001b[38;5;124m\"\u001b[39m\u001b[38;5;124mThread is still running.\u001b[39m\u001b[38;5;124m\"\u001b[39m)\n\u001b[0;32m     15\u001b[0m \u001b[38;5;28;01melse\u001b[39;00m:\n",
      "\u001b[1;31mAttributeError\u001b[0m: 'Thread' object has no attribute 'isAlive'"
     ]
    }
   ],
   "source": [
    "import threading\n",
    "import time\n",
    "\n",
    "def my_task():\n",
    "    time.sleep(3)  # Simulating a long-running task\n",
    "    print(\"Thread has finished.\")\n",
    "\n",
    "# Create and start a thread\n",
    "t = threading.Thread(target=my_task)\n",
    "t.start()\n",
    "\n",
    "# Check if the thread is still alive\n",
    "if t.isAlive():\n",
    "    print(\"Thread is still running.\")\n",
    "else:\n",
    "    print(\"Thread has finished.\")\n",
    "\n",
    "     "
   ]
  },
  {
   "cell_type": "markdown",
   "id": "564e8d33-64f4-4b97-8f65-62e9e7715a64",
   "metadata": {},
   "source": [
    "## Q4\n"
   ]
  },
  {
   "cell_type": "code",
   "execution_count": 8,
   "id": "ced135ce-a310-4391-b049-05935d7a418f",
   "metadata": {},
   "outputs": [
    {
     "name": "stdout",
     "output_type": "stream",
     "text": [
      "Square of 1: 1\n",
      "Square of 2: 4\n",
      "Square of 3: 9\n",
      "Square of 4: 16\n",
      "Square of 5: 25\n",
      "Square of 6: 36\n",
      "Square of 7: 49\n",
      "Square of 8: 64\n",
      "Square of 9: 81\n",
      "Square of 10: 100\n",
      "Cube of 1: 1\n",
      "Cube of 2: 8\n",
      "Cube of 3: 27\n",
      "Cube of 4: 64\n",
      "Cube of 5: 125\n",
      "Cube of 6: 216\n",
      "Cube of 7: 343\n",
      "Cube of 8: 512\n",
      "Cube of 9: 729\n",
      "Cube of 10: 1000\n",
      "Program execution finished.\n"
     ]
    }
   ],
   "source": [
    "import threading\n",
    "\n",
    "def print_squares():\n",
    "    for i in range(1, 11):\n",
    "        print(f\"Square of {i}: {i**2}\")\n",
    "\n",
    "def print_cubes():\n",
    "    for i in range(1, 11):\n",
    "        print(f\"Cube of {i}: {i**3}\")\n",
    "\n",
    "# Create the first thread for squares\n",
    "thread1 = threading.Thread(target=print_squares)\n",
    "\n",
    "# Create the second thread for cubes\n",
    "thread2 = threading.Thread(target=print_cubes)\n",
    "\n",
    "# Start both threads\n",
    "thread1.start()\n",
    "thread2.start()\n",
    "\n",
    "# Wait for both threads to finish\n",
    "thread1.join()\n",
    "thread2.join()\n",
    "\n",
    "print(\"Program execution finished.\")"
   ]
  },
  {
   "cell_type": "code",
   "execution_count": null,
   "id": "51049d0d-2d50-4a70-8657-d18f799ab922",
   "metadata": {},
   "outputs": [],
   "source": []
  }
 ],
 "metadata": {
  "kernelspec": {
   "display_name": "Python 3 (ipykernel)",
   "language": "python",
   "name": "python3"
  },
  "language_info": {
   "codemirror_mode": {
    "name": "ipython",
    "version": 3
   },
   "file_extension": ".py",
   "mimetype": "text/x-python",
   "name": "python",
   "nbconvert_exporter": "python",
   "pygments_lexer": "ipython3",
   "version": "3.11.7"
  }
 },
 "nbformat": 4,
 "nbformat_minor": 5
}
